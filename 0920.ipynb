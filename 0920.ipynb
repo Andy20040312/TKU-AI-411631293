{
  "nbformat": 4,
  "nbformat_minor": 0,
  "metadata": {
    "colab": {
      "provenance": [],
      "authorship_tag": "ABX9TyOmMGV5WmJbm2P0bc8bqdcH",
      "include_colab_link": true
    },
    "kernelspec": {
      "name": "python3",
      "display_name": "Python 3"
    },
    "language_info": {
      "name": "python"
    }
  },
  "cells": [
    {
      "cell_type": "markdown",
      "metadata": {
        "id": "view-in-github",
        "colab_type": "text"
      },
      "source": [
        "<a href=\"https://colab.research.google.com/github/Andy20040312/TKU-AI-411631293/blob/main/0920.ipynb\" target=\"_parent\"><img src=\"https://colab.research.google.com/assets/colab-badge.svg\" alt=\"Open In Colab\"/></a>"
      ]
    },
    {
      "cell_type": "code",
      "execution_count": 2,
      "metadata": {
        "colab": {
          "base_uri": "https://localhost:8080/"
        },
        "id": "7wcADbSad9K5",
        "outputId": "41966435-643d-4f82-9d27-b13af65fa726"
      },
      "outputs": [
        {
          "output_type": "stream",
          "name": "stdout",
          "text": [
            "請輸入上底長度:3\n",
            "請輸入下底長度:5\n",
            "請輸入梯形的高度:8\n",
            "32.0\n"
          ]
        }
      ],
      "source": [
        "上底=int(input(\"請輸入上底長度:\"))\n",
        "下底=int(input(\"請輸入下底長度:\"))\n",
        "高=int(input(\"請輸入梯形的高度:\"))\n",
        "面積=(上底+下底)*高/2\n",
        "print(面積)\n"
      ]
    },
    {
      "cell_type": "code",
      "source": [
        "國文=int(input(\"請輸入國文成績:\"))\n",
        "英文=int(input(\"請輸入英文成績:\"))\n",
        "數學=int(input(\"請輸入數學成績:\"))\n",
        "總分=國文+英文+數學\n",
        "print(\"總分為\",總分)"
      ],
      "metadata": {
        "colab": {
          "base_uri": "https://localhost:8080/"
        },
        "id": "C8b7NMy7eCX6",
        "outputId": "f0c0c906-6645-4c77-d008-14d767a92274"
      },
      "execution_count": 3,
      "outputs": [
        {
          "output_type": "stream",
          "name": "stdout",
          "text": [
            "請輸入國文成績:60\n",
            "請輸入英文成績:60\n",
            "請輸入數學成績:60\n",
            "總分為 180\n"
          ]
        }
      ]
    }
  ]
}